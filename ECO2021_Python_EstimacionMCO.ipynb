{
 "cells": [
  {
   "cell_type": "markdown",
   "metadata": {},
   "source": [
    "# Práctica 2: Estimación e Inferencia en Modelos de Regresión Lineales"
   ]
  },
  {
   "cell_type": "markdown",
   "metadata": {},
   "source": [
    "## Cuestiones"
   ]
  },
  {
   "cell_type": "code",
   "execution_count": 1,
   "metadata": {},
   "outputs": [],
   "source": [
    "import numpy as np\n",
    "import statsmodels.api as sm\n",
    "import matplotlib.pylab as plt\n",
    "from wooldridge import *"
   ]
  },
  {
   "cell_type": "markdown",
   "metadata": {},
   "source": [
    "1. Utilizando la base de datos **hprice1**:\n",
    "    - Estimar el modelo $\\log {\\rm price} = \\beta_0 + \\beta_1 \\log {\\rm lotsize} + \\beta_2 \\log{\\rm sqrft} + \\beta_3 {\\rm bdrms} + u$. Interpretar los resultados obtenidos.\n",
    "    - Obtener la predicción de $\\log {\\rm price}$ cuando ${\\rm lotsize}=20000$, ${\\rm sqrft}=2500$ y ${\\rm bdrms}=4$.\n",
    "    - Para explicar la variación de ${\\rm price}$, se considera también el modelo: ${\\rm price} = \\beta^\\prime_0 + \\beta_1^\\prime {\\rm sqrtft} + \\beta_2^\\prime {\\rm bdrms} + u^\\prime$. ¿Que modelo es más útil?"
   ]
  },
  {
   "cell_type": "code",
   "execution_count": 3,
   "metadata": {},
   "outputs": [
    {
     "name": "stdout",
     "output_type": "stream",
     "text": [
      "                            OLS Regression Results                            \n",
      "==============================================================================\n",
      "Dep. Variable:                 lprice   R-squared:                       0.643\n",
      "Model:                            OLS   Adj. R-squared:                  0.630\n",
      "Method:                 Least Squares   F-statistic:                     50.42\n",
      "Date:                Mon, 16 Nov 2020   Prob (F-statistic):           9.74e-19\n",
      "Time:                        08:44:24   Log-Likelihood:                 25.861\n",
      "No. Observations:                  88   AIC:                            -43.72\n",
      "Df Residuals:                      84   BIC:                            -33.81\n",
      "Df Model:                           3                                         \n",
      "Covariance Type:            nonrobust                                         \n",
      "==============================================================================\n",
      "                 coef    std err          t      P>|t|      [0.025      0.975]\n",
      "------------------------------------------------------------------------------\n",
      "const         -1.2970      0.651     -1.992      0.050      -2.592      -0.002\n",
      "llotsize       0.1680      0.038      4.388      0.000       0.092       0.244\n",
      "lsqrft         0.7002      0.093      7.540      0.000       0.516       0.885\n",
      "bdrms          0.0370      0.028      1.342      0.183      -0.018       0.092\n",
      "==============================================================================\n",
      "Omnibus:                       12.060   Durbin-Watson:                   2.089\n",
      "Prob(Omnibus):                  0.002   Jarque-Bera (JB):               34.889\n",
      "Skew:                          -0.188   Prob(JB):                     2.65e-08\n",
      "Kurtosis:                       6.062   Cond. No.                         410.\n",
      "==============================================================================\n",
      "\n",
      "Notes:\n",
      "[1] Standard Errors assume that the covariance matrix of the errors is correctly specified.\n",
      "[5.99289846] [400.5739777]\n",
      "                            OLS Regression Results                            \n",
      "==============================================================================\n",
      "Dep. Variable:                  price   R-squared:                       0.632\n",
      "Model:                            OLS   Adj. R-squared:                  0.623\n",
      "Method:                 Least Squares   F-statistic:                     72.96\n",
      "Date:                Mon, 16 Nov 2020   Prob (F-statistic):           3.57e-19\n",
      "Time:                        08:44:24   Log-Likelihood:                -488.00\n",
      "No. Observations:                  88   AIC:                             982.0\n",
      "Df Residuals:                      85   BIC:                             989.4\n",
      "Df Model:                           2                                         \n",
      "Covariance Type:            nonrobust                                         \n",
      "==============================================================================\n",
      "                 coef    std err          t      P>|t|      [0.025      0.975]\n",
      "------------------------------------------------------------------------------\n",
      "const        -19.3150     31.047     -0.622      0.536     -81.044      42.414\n",
      "sqrft          0.1284      0.014      9.291      0.000       0.101       0.156\n",
      "bdrms         15.1982      9.484      1.603      0.113      -3.658      34.054\n",
      "==============================================================================\n",
      "Omnibus:                       25.221   Durbin-Watson:                   1.858\n",
      "Prob(Omnibus):                  0.000   Jarque-Bera (JB):               44.973\n",
      "Skew:                           1.122   Prob(JB):                     1.72e-10\n",
      "Kurtosis:                       5.689   Cond. No.                     9.85e+03\n",
      "==============================================================================\n",
      "\n",
      "Notes:\n",
      "[1] Standard Errors assume that the covariance matrix of the errors is correctly specified.\n",
      "[2] The condition number is large, 9.85e+03. This might indicate that there are\n",
      "strong multicollinearity or other numerical problems.\n",
      "-43.721321333382946 981.9977734399669\n",
      "-33.81197407547012 989.4297838834015\n"
     ]
    }
   ],
   "source": [
    "#dataWoo('hprice1', description=True)\n",
    "datos=dataWoo('hprice1')\n",
    "y=datos[\"lprice\"]\n",
    "X=datos[[\"llotsize\",\"lsqrft\",\"bdrms\"]]\n",
    "mco1 = sm.OLS(y, sm.add_constant(X)).fit()\n",
    "print(mco1.summary())\n",
    "\n",
    "x0=[1,np.log(20000),np.log(2500), 4]\n",
    "y0=mco1.predict(exog=x0)\n",
    "print(y0, np.exp(y0))\n",
    "\n",
    "y1=datos[\"price\"]\n",
    "X1=datos[[\"sqrft\",\"bdrms\"]]\n",
    "mco2 = sm.OLS(y1, sm.add_constant(X1)).fit()\n",
    "print(mco2.summary())\n",
    "\n",
    "AIC1=mco1.aic\n",
    "BIC1=mco1.bic\n",
    "AIC2=mco2.aic\n",
    "BIC2=mco2.bic\n",
    "print(AIC1, AIC2)\n",
    "print(BIC1, BIC2)"
   ]
  },
  {
   "cell_type": "markdown",
   "metadata": {},
   "source": [
    "2. Usando los datos de **vote1**:\n",
    "    - Estimar el modelo $voteA = \\beta_0 + \\beta_1 \\log(expendA) + \\beta_2 \\log(expendB) + \\beta_3 prtystrA + u$.\n",
    "    - ¿Cuál es la interpretación de $\\beta_1$?\n",
    "    - ¿Los gastos de A afectan a los resultados de las elecciones? ¿Y los gastos de B?\n",
    "    - Establecer la hipótesis nula de que un aumento de $1\\%$ de aumento en los gastos de A es compensado por un aumento del $1\\%$ en los gastos de B. Contrastar estadísticamente: $H_0: \\beta_1 + \\beta_2 = 0$\n",
    "   \n",
    "    $H_0: R \\beta = r$"
   ]
  },
  {
   "cell_type": "code",
   "execution_count": 4,
   "metadata": {},
   "outputs": [
    {
     "data": {
      "text/plain": [
       "<class 'statsmodels.stats.contrast.ContrastResults'>\n",
       "<F test: F=array([[0.99630884]]), p=0.3196323305021531, df_denom=169, df_num=1>"
      ]
     },
     "execution_count": 4,
     "metadata": {},
     "output_type": "execute_result"
    }
   ],
   "source": [
    "#dataWoo(\"vote1\", description=True)\n",
    "datos=dataWoo('vote1')\n",
    "y=datos[\"voteA\"]\n",
    "X=datos[[\"lexpendA\", \"lexpendB\", \"prtystrA\"]]\n",
    "mco3=sm.OLS(y, sm.add_constant(X)).fit()\n",
    "#mco3.summary()\n",
    "\n",
    "\n",
    "mco3.f_test(([0,1,1,0],0))\n"
   ]
  },
  {
   "cell_type": "markdown",
   "metadata": {},
   "source": [
    "\n",
    "\n",
    "\n",
    "\n",
    "\n",
    "\n",
    "3. Con los datos disponibles en **mlb1** se pretende analizar el efecto de diversas características de los jugadores de la liga de béisbol americana en su salario. Se propone el siguiente modelo:\n",
    "$$\n",
    "\\log (salary) = \\beta_0 + \\beta_1 years + \\beta_2 gamesyr + \\beta_3 bavg + \\beta_4 hrunsyr + \\beta_5 rbisyr + \\beta_6 runsyr + \\beta_7 fldperc + \\beta_8 allstar + \\beta_9 black + \\beta_{10} hispan + \\beta_{11} black \\times percblck + \\beta_{12} hispan \\times perchisp + u\n",
    "$$\n",
    "    - Estimar el modelo.\n",
    "    - ¿Son las variables $black$, $hispan$, $black\\times percblck$ y $hispan\\times perchisp$ conjuntamente significativas?\n",
    "    - ¿Cómo interpretarías los coeficientes de las variables \"raciales\"?\n",
    "    \n",
    "    \n",
    "    \n",
    "    \n",
    "    \n",
    "    \n",
    "    "
   ]
  },
  {
   "cell_type": "code",
   "execution_count": 23,
   "metadata": {},
   "outputs": [
    {
     "data": {
      "text/html": [
       "<table class=\"simpletable\">\n",
       "<caption>OLS Regression Results</caption>\n",
       "<tr>\n",
       "  <th>Dep. Variable:</th>         <td>lsalary</td>     <th>  R-squared:         </th> <td>   0.627</td>\n",
       "</tr>\n",
       "<tr>\n",
       "  <th>Model:</th>                   <td>OLS</td>       <th>  Adj. R-squared:    </th> <td>   0.613</td>\n",
       "</tr>\n",
       "<tr>\n",
       "  <th>Method:</th>             <td>Least Squares</td>  <th>  F-statistic:       </th> <td>   44.43</td>\n",
       "</tr>\n",
       "<tr>\n",
       "  <th>Date:</th>             <td>Mon, 16 Nov 2020</td> <th>  Prob (F-statistic):</th> <td>1.12e-60</td>\n",
       "</tr>\n",
       "<tr>\n",
       "  <th>Time:</th>                 <td>09:06:15</td>     <th>  Log-Likelihood:    </th> <td> -354.83</td>\n",
       "</tr>\n",
       "<tr>\n",
       "  <th>No. Observations:</th>      <td>   330</td>      <th>  AIC:               </th> <td>   735.7</td>\n",
       "</tr>\n",
       "<tr>\n",
       "  <th>Df Residuals:</th>          <td>   317</td>      <th>  BIC:               </th> <td>   785.1</td>\n",
       "</tr>\n",
       "<tr>\n",
       "  <th>Df Model:</th>              <td>    12</td>      <th>                     </th>     <td> </td>   \n",
       "</tr>\n",
       "<tr>\n",
       "  <th>Covariance Type:</th>      <td>nonrobust</td>    <th>                     </th>     <td> </td>   \n",
       "</tr>\n",
       "</table>\n",
       "<table class=\"simpletable\">\n",
       "<tr>\n",
       "     <td></td>        <th>coef</th>     <th>std err</th>      <th>t</th>      <th>P>|t|</th>  <th>[0.025</th>    <th>0.975]</th>  \n",
       "</tr>\n",
       "<tr>\n",
       "  <th>const</th>   <td>   10.6169</td> <td>    2.212</td> <td>    4.800</td> <td> 0.000</td> <td>    6.265</td> <td>   14.969</td>\n",
       "</tr>\n",
       "<tr>\n",
       "  <th>years</th>   <td>    0.0665</td> <td>    0.013</td> <td>    5.066</td> <td> 0.000</td> <td>    0.041</td> <td>    0.092</td>\n",
       "</tr>\n",
       "<tr>\n",
       "  <th>gamesyr</th> <td>    0.0090</td> <td>    0.003</td> <td>    2.594</td> <td> 0.010</td> <td>    0.002</td> <td>    0.016</td>\n",
       "</tr>\n",
       "<tr>\n",
       "  <th>bavg</th>    <td>    0.0006</td> <td>    0.002</td> <td>    0.401</td> <td> 0.689</td> <td>   -0.002</td> <td>    0.004</td>\n",
       "</tr>\n",
       "<tr>\n",
       "  <th>hrunsyr</th> <td>    0.0152</td> <td>    0.017</td> <td>    0.908</td> <td> 0.364</td> <td>   -0.018</td> <td>    0.048</td>\n",
       "</tr>\n",
       "<tr>\n",
       "  <th>rbisyr</th>  <td>    0.0042</td> <td>    0.008</td> <td>    0.549</td> <td> 0.583</td> <td>   -0.011</td> <td>    0.019</td>\n",
       "</tr>\n",
       "<tr>\n",
       "  <th>runsyr</th>  <td>    0.0080</td> <td>    0.005</td> <td>    1.737</td> <td> 0.083</td> <td>   -0.001</td> <td>    0.017</td>\n",
       "</tr>\n",
       "<tr>\n",
       "  <th>fldperc</th> <td>    0.0009</td> <td>    0.002</td> <td>    0.404</td> <td> 0.687</td> <td>   -0.003</td> <td>    0.005</td>\n",
       "</tr>\n",
       "<tr>\n",
       "  <th>allstar</th> <td>    0.0071</td> <td>    0.003</td> <td>    2.448</td> <td> 0.015</td> <td>    0.001</td> <td>    0.013</td>\n",
       "</tr>\n",
       "<tr>\n",
       "  <th>black</th>   <td>    0.0890</td> <td>    0.123</td> <td>    0.722</td> <td> 0.471</td> <td>   -0.153</td> <td>    0.331</td>\n",
       "</tr>\n",
       "<tr>\n",
       "  <th>hispan</th>  <td>   -0.0233</td> <td>    0.167</td> <td>   -0.139</td> <td> 0.889</td> <td>   -0.352</td> <td>    0.306</td>\n",
       "</tr>\n",
       "<tr>\n",
       "  <th>blckph</th>  <td>   -0.0083</td> <td>    0.008</td> <td>   -1.031</td> <td> 0.303</td> <td>   -0.024</td> <td>    0.008</td>\n",
       "</tr>\n",
       "<tr>\n",
       "  <th>hisppb</th>  <td>    0.0034</td> <td>    0.007</td> <td>    0.452</td> <td> 0.652</td> <td>   -0.011</td> <td>    0.018</td>\n",
       "</tr>\n",
       "</table>\n",
       "<table class=\"simpletable\">\n",
       "<tr>\n",
       "  <th>Omnibus:</th>       <td> 2.111</td> <th>  Durbin-Watson:     </th> <td>   1.292</td>\n",
       "</tr>\n",
       "<tr>\n",
       "  <th>Prob(Omnibus):</th> <td> 0.348</td> <th>  Jarque-Bera (JB):  </th> <td>   2.059</td>\n",
       "</tr>\n",
       "<tr>\n",
       "  <th>Skew:</th>          <td> 0.030</td> <th>  Prob(JB):          </th> <td>   0.357</td>\n",
       "</tr>\n",
       "<tr>\n",
       "  <th>Kurtosis:</th>      <td> 3.382</td> <th>  Cond. No.          </th> <td>5.64e+04</td>\n",
       "</tr>\n",
       "</table><br/><br/>Notes:<br/>[1] Standard Errors assume that the covariance matrix of the errors is correctly specified.<br/>[2] The condition number is large, 5.64e+04. This might indicate that there are<br/>strong multicollinearity or other numerical problems."
      ],
      "text/plain": [
       "<class 'statsmodels.iolib.summary.Summary'>\n",
       "\"\"\"\n",
       "                            OLS Regression Results                            \n",
       "==============================================================================\n",
       "Dep. Variable:                lsalary   R-squared:                       0.627\n",
       "Model:                            OLS   Adj. R-squared:                  0.613\n",
       "Method:                 Least Squares   F-statistic:                     44.43\n",
       "Date:                Mon, 16 Nov 2020   Prob (F-statistic):           1.12e-60\n",
       "Time:                        09:06:15   Log-Likelihood:                -354.83\n",
       "No. Observations:                 330   AIC:                             735.7\n",
       "Df Residuals:                     317   BIC:                             785.1\n",
       "Df Model:                          12                                         \n",
       "Covariance Type:            nonrobust                                         \n",
       "==============================================================================\n",
       "                 coef    std err          t      P>|t|      [0.025      0.975]\n",
       "------------------------------------------------------------------------------\n",
       "const         10.6169      2.212      4.800      0.000       6.265      14.969\n",
       "years          0.0665      0.013      5.066      0.000       0.041       0.092\n",
       "gamesyr        0.0090      0.003      2.594      0.010       0.002       0.016\n",
       "bavg           0.0006      0.002      0.401      0.689      -0.002       0.004\n",
       "hrunsyr        0.0152      0.017      0.908      0.364      -0.018       0.048\n",
       "rbisyr         0.0042      0.008      0.549      0.583      -0.011       0.019\n",
       "runsyr         0.0080      0.005      1.737      0.083      -0.001       0.017\n",
       "fldperc        0.0009      0.002      0.404      0.687      -0.003       0.005\n",
       "allstar        0.0071      0.003      2.448      0.015       0.001       0.013\n",
       "black          0.0890      0.123      0.722      0.471      -0.153       0.331\n",
       "hispan        -0.0233      0.167     -0.139      0.889      -0.352       0.306\n",
       "blckph        -0.0083      0.008     -1.031      0.303      -0.024       0.008\n",
       "hisppb         0.0034      0.007      0.452      0.652      -0.011       0.018\n",
       "==============================================================================\n",
       "Omnibus:                        2.111   Durbin-Watson:                   1.292\n",
       "Prob(Omnibus):                  0.348   Jarque-Bera (JB):                2.059\n",
       "Skew:                           0.030   Prob(JB):                        0.357\n",
       "Kurtosis:                       3.382   Cond. No.                     5.64e+04\n",
       "==============================================================================\n",
       "\n",
       "Notes:\n",
       "[1] Standard Errors assume that the covariance matrix of the errors is correctly specified.\n",
       "[2] The condition number is large, 5.64e+04. This might indicate that there are\n",
       "strong multicollinearity or other numerical problems.\n",
       "\"\"\""
      ]
     },
     "execution_count": 23,
     "metadata": {},
     "output_type": "execute_result"
    }
   ],
   "source": [
    "#dataWoo(\"mlb1\", description=True)\n",
    "datos=dataWoo(\"mlb1\")\n",
    "\n",
    "datos=datos.dropna(subset=[\"blckpb\"])\n",
    "\n",
    "\n",
    "y=datos[\"lsalary\"]\n",
    "X=datos[[\"years\", \"gamesyr\", \"bavg\", \"hrunsyr\", \"rbisyr\", \"runsyr\", \"fldperc\", \"allstar\", \"black\", \"hispan\", \"blckph\", \"hisppb\"]]\n",
    "\n",
    "\n",
    "mco4 = sm.OLS(y, sm.add_constant(X)).fit()\n",
    "mco4.summary()\n",
    "\n"
   ]
  },
  {
   "cell_type": "markdown",
   "metadata": {},
   "source": [
    "$H_0 : \\beta_9=0, \\beta_{10}=0, \\beta_{11}=0, \\beta_{12}=0$\n",
    "\n",
    "$H_0 : R \\beta = r$\n",
    "\n",
    "\n",
    "$\\beta_9=0$: $R \\times (\\beta_0, \\beta_1, ..., \\beta_{12}) = \\beta_9$"
   ]
  },
  {
   "cell_type": "code",
   "execution_count": 30,
   "metadata": {},
   "outputs": [
    {
     "data": {
      "text/plain": [
       "'<F test: F=array([[0.34106844]]), p=0.8501456901316025, df_denom=317, df_num=4>'"
      ]
     },
     "execution_count": 30,
     "metadata": {},
     "output_type": "execute_result"
    }
   ],
   "source": [
    "R=[[0,0,0,0,0,0,0,0,0,1,0,0,0], [0,0,0,0,0,0,0,0,0,0,1,0,0], [0,0,0,0,0,0,0,0,0,0,0,1,0],[0,0,0,0,0,0,0,0,0,0,0,0,1]]\n",
    "r=[0,0,0,0]\n",
    "mco4.f_test((R,r)).summary()"
   ]
  },
  {
   "cell_type": "markdown",
   "metadata": {},
   "source": [
    "4. Utilizar los datos de **gpa3** para analizar los promedios generales de calificaciones ($cumgpa$) de atletas universitarios en base a la puntuación del examen de acceso a la universidad ($sat$), el percentil alcanzado en bachiller ($hsperc$) y las horas de cursos universitarios ($totrs$):\n",
    "$$\n",
    "cumgpa = \\beta_0 + \\beta_1 sat + \\beta_2 hsperc + \\beta_3 tothrs + u\n",
    "$$\n",
    "    - Estimar el modelo anterior e interpreta los resultados.\n",
    "    - Para determinar si hay diferencias en las calificaciones entre hombres y mujeres del modelo anterior, considera el modelo con interacciones:\n",
    "    $$\n",
    "cumgpa = \\delta_0 + \\delta_1 sat + \\delta_2 hsperc + \\delta_3 tothrs + \\delta_4 female + \\delta_5 female\\times sat + \\delta_6 female \\times hsperc + \\delta_7 female \\times tothrs +  u\n",
    "$$  \n",
    "Estima el modelo e interpreta los coeficientes obtenidos.\n",
    "    - Contrasta la hipótesis $H_0: \\delta_4=\\delta_5=\\delta_6=\\delta_7=0$. ¿Qué se puede deducir de lo obtenido?"
   ]
  },
  {
   "cell_type": "code",
   "execution_count": 44,
   "metadata": {},
   "outputs": [
    {
     "data": {
      "text/plain": [
       "'<F test: F=array([[4.42270288]]), p=0.0015434672461127152, df_denom=724, df_num=4>'"
      ]
     },
     "execution_count": 44,
     "metadata": {},
     "output_type": "execute_result"
    }
   ],
   "source": [
    "datos=dataWoo(\"gpa3\")\n",
    "\n",
    "y=datos[\"cumgpa\"]\n",
    "X=datos[[\"sat\", \"hsperc\", \"tothrs\"]]\n",
    "\n",
    "mco5=sm.OLS(y, sm.add_constant(X)).fit()\n",
    "mco5.summary()\n",
    "\n",
    "\n",
    "datos[\"fsat\"]=datos[\"female\"]*datos[\"sat\"]\n",
    "datos[\"fhsperc\"]=datos[\"female\"]*datos[\"hsperc\"]\n",
    "datos[\"ftothrs\"]=datos[\"female\"]*datos[\"tothrs\"]\n",
    "\n",
    "X=datos[[\"sat\", \"hsperc\", \"tothrs\", \"female\", \"fsat\", \"fhsperc\", \"ftothrs\"]]\n",
    "\n",
    "mco6=sm.OLS(y, sm.add_constant(X)).fit()\n",
    "mco6.summary()\n",
    "\n",
    "\n",
    "R=[[0,0,0,0,1,0,0,0], [0,0,0,0,0,1,0,0], [0,0,0,0,0,0,1,0], [0,0,0,0,0,0,0,1]]\n",
    "r=[0,0,0,0]\n",
    "mco6.f_test((R,r)).summary()"
   ]
  },
  {
   "cell_type": "markdown",
   "metadata": {},
   "source": [
    "$cumgpa = ... 0.0006 * sat + ... -1.1136 female + 0.0011 female*sat + ...$"
   ]
  },
  {
   "cell_type": "markdown",
   "metadata": {},
   "source": [
    "5. Usando los datos de **sleep75**, y sabiendo que el modelo de interés es:\n",
    "$$\n",
    "sleep = \\beta_0 + \\beta_1 totwrk + \\beta_2 educ + \\beta_3 age + \\beta_4 age^2 + \\beta_5 yngkid + u\n",
    "$$\n",
    "    - Estimar el modelo por separado para hombres y mujeres y deducir su hay diferencias importantes entre los dos modelos estimados. Obtener las sumas de cuadrados de los residuos $SCR_H$ y $SCR_M$.\n",
    "    - Estimar el modelo sin distinguir por género, y obtener $SCR$. Construir el estadístico:\n",
    "    $$\n",
    "    F_{exp} = \\frac{n-2k -2}{k+1} \\frac{SCR - (SCR_H+SCR_M)}{SCR_H + SCR_M} \\sim F_{k+1, n-2k-1}\n",
    "    $$\n",
    "    donde $n$ es el número total de observaciones y $k$ el número de variables del modelo ($5$).\n",
    "    - El estadístico $F_{exp}$ (**Test de Chow**) permite contrastar la hipótesis de que coeficientes de los modelos para hombres y mujeres coinciden. Comprobar si se rechaza o no esta hipótesis."
   ]
  },
  {
   "cell_type": "code",
   "execution_count": 55,
   "metadata": {},
   "outputs": [],
   "source": [
    "datos=dataWoo(\"sleep75\")\n",
    "\n",
    "y=datos[\"sleep\"]\n",
    "X=datos[[\"totwrk\", \"educ\", \"age\", \"agesq\", \"yngkid\"]]\n",
    "mco=sm.OLS(y, sm.add_constant(X)).fit()\n",
    "\n",
    "datosH=datos[datos[\"male\"]==1]\n",
    "datosM=datos[datos[\"male\"]==0]\n",
    "\n",
    "yH=datosH[\"sleep\"]\n",
    "yM=datosM[\"sleep\"]\n",
    "\n",
    "XH=datosH[[\"totwrk\", \"educ\", \"age\", \"agesq\", \"yngkid\"]]\n",
    "XM=datosM[[\"totwrk\", \"educ\", \"age\", \"agesq\", \"yngkid\"]]\n",
    "\n",
    "mcoH=sm.OLS(yH, sm.add_constant(XH)).fit()\n",
    "mcoM=sm.OLS(yM, sm.add_constant(XM)).fit()"
   ]
  },
  {
   "cell_type": "code",
   "execution_count": 49,
   "metadata": {},
   "outputs": [
    {
     "data": {
      "text/html": [
       "<table class=\"simpletable\">\n",
       "<caption>OLS Regression Results</caption>\n",
       "<tr>\n",
       "  <th>Dep. Variable:</th>          <td>sleep</td>      <th>  R-squared:         </th> <td>   0.156</td>\n",
       "</tr>\n",
       "<tr>\n",
       "  <th>Model:</th>                   <td>OLS</td>       <th>  Adj. R-squared:    </th> <td>   0.146</td>\n",
       "</tr>\n",
       "<tr>\n",
       "  <th>Method:</th>             <td>Least Squares</td>  <th>  F-statistic:       </th> <td>   14.59</td>\n",
       "</tr>\n",
       "<tr>\n",
       "  <th>Date:</th>             <td>Mon, 16 Nov 2020</td> <th>  Prob (F-statistic):</th> <td>3.95e-13</td>\n",
       "</tr>\n",
       "<tr>\n",
       "  <th>Time:</th>                 <td>10:03:18</td>     <th>  Log-Likelihood:    </th> <td> -2963.4</td>\n",
       "</tr>\n",
       "<tr>\n",
       "  <th>No. Observations:</th>      <td>   400</td>      <th>  AIC:               </th> <td>   5939.</td>\n",
       "</tr>\n",
       "<tr>\n",
       "  <th>Df Residuals:</th>          <td>   394</td>      <th>  BIC:               </th> <td>   5963.</td>\n",
       "</tr>\n",
       "<tr>\n",
       "  <th>Df Model:</th>              <td>     5</td>      <th>                     </th>     <td> </td>   \n",
       "</tr>\n",
       "<tr>\n",
       "  <th>Covariance Type:</th>      <td>nonrobust</td>    <th>                     </th>     <td> </td>   \n",
       "</tr>\n",
       "</table>\n",
       "<table class=\"simpletable\">\n",
       "<tr>\n",
       "     <td></td>       <th>coef</th>     <th>std err</th>      <th>t</th>      <th>P>|t|</th>  <th>[0.025</th>    <th>0.975]</th>  \n",
       "</tr>\n",
       "<tr>\n",
       "  <th>const</th>  <td> 3648.2083</td> <td>  310.039</td> <td>   11.767</td> <td> 0.000</td> <td> 3038.670</td> <td> 4257.747</td>\n",
       "</tr>\n",
       "<tr>\n",
       "  <th>totwrk</th> <td>   -0.1821</td> <td>    0.024</td> <td>   -7.438</td> <td> 0.000</td> <td>   -0.230</td> <td>   -0.134</td>\n",
       "</tr>\n",
       "<tr>\n",
       "  <th>educ</th>   <td>  -13.0524</td> <td>    7.414</td> <td>   -1.760</td> <td> 0.079</td> <td>  -27.629</td> <td>    1.524</td>\n",
       "</tr>\n",
       "<tr>\n",
       "  <th>age</th>    <td>    7.1566</td> <td>   14.320</td> <td>    0.500</td> <td> 0.618</td> <td>  -20.997</td> <td>   35.310</td>\n",
       "</tr>\n",
       "<tr>\n",
       "  <th>agesq</th>  <td>   -0.0448</td> <td>    0.168</td> <td>   -0.266</td> <td> 0.791</td> <td>   -0.376</td> <td>    0.286</td>\n",
       "</tr>\n",
       "<tr>\n",
       "  <th>yngkid</th> <td>   60.3802</td> <td>   59.023</td> <td>    1.023</td> <td> 0.307</td> <td>  -55.659</td> <td>  176.419</td>\n",
       "</tr>\n",
       "</table>\n",
       "<table class=\"simpletable\">\n",
       "<tr>\n",
       "  <th>Omnibus:</th>       <td>21.716</td> <th>  Durbin-Watson:     </th> <td>   2.061</td>\n",
       "</tr>\n",
       "<tr>\n",
       "  <th>Prob(Omnibus):</th> <td> 0.000</td> <th>  Jarque-Bera (JB):  </th> <td>  42.802</td>\n",
       "</tr>\n",
       "<tr>\n",
       "  <th>Skew:</th>          <td>-0.305</td> <th>  Prob(JB):          </th> <td>5.08e-10</td>\n",
       "</tr>\n",
       "<tr>\n",
       "  <th>Kurtosis:</th>      <td> 4.482</td> <th>  Cond. No.          </th> <td>4.71e+04</td>\n",
       "</tr>\n",
       "</table><br/><br/>Notes:<br/>[1] Standard Errors assume that the covariance matrix of the errors is correctly specified.<br/>[2] The condition number is large, 4.71e+04. This might indicate that there are<br/>strong multicollinearity or other numerical problems."
      ],
      "text/plain": [
       "<class 'statsmodels.iolib.summary.Summary'>\n",
       "\"\"\"\n",
       "                            OLS Regression Results                            \n",
       "==============================================================================\n",
       "Dep. Variable:                  sleep   R-squared:                       0.156\n",
       "Model:                            OLS   Adj. R-squared:                  0.146\n",
       "Method:                 Least Squares   F-statistic:                     14.59\n",
       "Date:                Mon, 16 Nov 2020   Prob (F-statistic):           3.95e-13\n",
       "Time:                        10:03:18   Log-Likelihood:                -2963.4\n",
       "No. Observations:                 400   AIC:                             5939.\n",
       "Df Residuals:                     394   BIC:                             5963.\n",
       "Df Model:                           5                                         \n",
       "Covariance Type:            nonrobust                                         \n",
       "==============================================================================\n",
       "                 coef    std err          t      P>|t|      [0.025      0.975]\n",
       "------------------------------------------------------------------------------\n",
       "const       3648.2083    310.039     11.767      0.000    3038.670    4257.747\n",
       "totwrk        -0.1821      0.024     -7.438      0.000      -0.230      -0.134\n",
       "educ         -13.0524      7.414     -1.760      0.079     -27.629       1.524\n",
       "age            7.1566     14.320      0.500      0.618     -20.997      35.310\n",
       "agesq         -0.0448      0.168     -0.266      0.791      -0.376       0.286\n",
       "yngkid        60.3802     59.023      1.023      0.307     -55.659     176.419\n",
       "==============================================================================\n",
       "Omnibus:                       21.716   Durbin-Watson:                   2.061\n",
       "Prob(Omnibus):                  0.000   Jarque-Bera (JB):               42.802\n",
       "Skew:                          -0.305   Prob(JB):                     5.08e-10\n",
       "Kurtosis:                       4.482   Cond. No.                     4.71e+04\n",
       "==============================================================================\n",
       "\n",
       "Notes:\n",
       "[1] Standard Errors assume that the covariance matrix of the errors is correctly specified.\n",
       "[2] The condition number is large, 4.71e+04. This might indicate that there are\n",
       "strong multicollinearity or other numerical problems.\n",
       "\"\"\""
      ]
     },
     "execution_count": 49,
     "metadata": {},
     "output_type": "execute_result"
    }
   ],
   "source": [
    "mcoH.summary()"
   ]
  },
  {
   "cell_type": "code",
   "execution_count": 51,
   "metadata": {},
   "outputs": [
    {
     "data": {
      "text/html": [
       "<table class=\"simpletable\">\n",
       "<caption>OLS Regression Results</caption>\n",
       "<tr>\n",
       "  <th>Dep. Variable:</th>          <td>sleep</td>      <th>  R-squared:         </th> <td>   0.098</td>\n",
       "</tr>\n",
       "<tr>\n",
       "  <th>Model:</th>                   <td>OLS</td>       <th>  Adj. R-squared:    </th> <td>   0.083</td>\n",
       "</tr>\n",
       "<tr>\n",
       "  <th>Method:</th>             <td>Least Squares</td>  <th>  F-statistic:       </th> <td>   6.495</td>\n",
       "</tr>\n",
       "<tr>\n",
       "  <th>Date:</th>             <td>Mon, 16 Nov 2020</td> <th>  Prob (F-statistic):</th> <td>9.42e-06</td>\n",
       "</tr>\n",
       "<tr>\n",
       "  <th>Time:</th>                 <td>10:03:48</td>     <th>  Log-Likelihood:    </th> <td> -2291.6</td>\n",
       "</tr>\n",
       "<tr>\n",
       "  <th>No. Observations:</th>      <td>   306</td>      <th>  AIC:               </th> <td>   4595.</td>\n",
       "</tr>\n",
       "<tr>\n",
       "  <th>Df Residuals:</th>          <td>   300</td>      <th>  BIC:               </th> <td>   4618.</td>\n",
       "</tr>\n",
       "<tr>\n",
       "  <th>Df Model:</th>              <td>     5</td>      <th>                     </th>     <td> </td>   \n",
       "</tr>\n",
       "<tr>\n",
       "  <th>Covariance Type:</th>      <td>nonrobust</td>    <th>                     </th>     <td> </td>   \n",
       "</tr>\n",
       "</table>\n",
       "<table class=\"simpletable\">\n",
       "<tr>\n",
       "     <td></td>       <th>coef</th>     <th>std err</th>      <th>t</th>      <th>P>|t|</th>  <th>[0.025</th>    <th>0.975]</th>  \n",
       "</tr>\n",
       "<tr>\n",
       "  <th>const</th>  <td> 4238.7293</td> <td>  384.892</td> <td>   11.013</td> <td> 0.000</td> <td> 3481.299</td> <td> 4996.160</td>\n",
       "</tr>\n",
       "<tr>\n",
       "  <th>totwrk</th> <td>   -0.1399</td> <td>    0.028</td> <td>   -5.060</td> <td> 0.000</td> <td>   -0.194</td> <td>   -0.086</td>\n",
       "</tr>\n",
       "<tr>\n",
       "  <th>educ</th>   <td>  -10.2051</td> <td>    9.589</td> <td>   -1.064</td> <td> 0.288</td> <td>  -29.075</td> <td>    8.665</td>\n",
       "</tr>\n",
       "<tr>\n",
       "  <th>age</th>    <td>  -30.3566</td> <td>   18.531</td> <td>   -1.638</td> <td> 0.102</td> <td>  -66.824</td> <td>    6.110</td>\n",
       "</tr>\n",
       "<tr>\n",
       "  <th>agesq</th>  <td>    0.3679</td> <td>    0.223</td> <td>    1.647</td> <td> 0.101</td> <td>   -0.072</td> <td>    0.807</td>\n",
       "</tr>\n",
       "<tr>\n",
       "  <th>yngkid</th> <td> -118.2826</td> <td>   93.188</td> <td>   -1.269</td> <td> 0.205</td> <td> -301.667</td> <td>   65.102</td>\n",
       "</tr>\n",
       "</table>\n",
       "<table class=\"simpletable\">\n",
       "<tr>\n",
       "  <th>Omnibus:</th>       <td>54.909</td> <th>  Durbin-Watson:     </th> <td>   1.931</td>\n",
       "</tr>\n",
       "<tr>\n",
       "  <th>Prob(Omnibus):</th> <td> 0.000</td> <th>  Jarque-Bera (JB):  </th> <td> 192.655</td>\n",
       "</tr>\n",
       "<tr>\n",
       "  <th>Skew:</th>          <td>-0.730</td> <th>  Prob(JB):          </th> <td>1.46e-42</td>\n",
       "</tr>\n",
       "<tr>\n",
       "  <th>Kurtosis:</th>      <td> 6.602</td> <th>  Cond. No.          </th> <td>3.93e+04</td>\n",
       "</tr>\n",
       "</table><br/><br/>Notes:<br/>[1] Standard Errors assume that the covariance matrix of the errors is correctly specified.<br/>[2] The condition number is large, 3.93e+04. This might indicate that there are<br/>strong multicollinearity or other numerical problems."
      ],
      "text/plain": [
       "<class 'statsmodels.iolib.summary.Summary'>\n",
       "\"\"\"\n",
       "                            OLS Regression Results                            \n",
       "==============================================================================\n",
       "Dep. Variable:                  sleep   R-squared:                       0.098\n",
       "Model:                            OLS   Adj. R-squared:                  0.083\n",
       "Method:                 Least Squares   F-statistic:                     6.495\n",
       "Date:                Mon, 16 Nov 2020   Prob (F-statistic):           9.42e-06\n",
       "Time:                        10:03:48   Log-Likelihood:                -2291.6\n",
       "No. Observations:                 306   AIC:                             4595.\n",
       "Df Residuals:                     300   BIC:                             4618.\n",
       "Df Model:                           5                                         \n",
       "Covariance Type:            nonrobust                                         \n",
       "==============================================================================\n",
       "                 coef    std err          t      P>|t|      [0.025      0.975]\n",
       "------------------------------------------------------------------------------\n",
       "const       4238.7293    384.892     11.013      0.000    3481.299    4996.160\n",
       "totwrk        -0.1399      0.028     -5.060      0.000      -0.194      -0.086\n",
       "educ         -10.2051      9.589     -1.064      0.288     -29.075       8.665\n",
       "age          -30.3566     18.531     -1.638      0.102     -66.824       6.110\n",
       "agesq          0.3679      0.223      1.647      0.101      -0.072       0.807\n",
       "yngkid      -118.2826     93.188     -1.269      0.205    -301.667      65.102\n",
       "==============================================================================\n",
       "Omnibus:                       54.909   Durbin-Watson:                   1.931\n",
       "Prob(Omnibus):                  0.000   Jarque-Bera (JB):              192.655\n",
       "Skew:                          -0.730   Prob(JB):                     1.46e-42\n",
       "Kurtosis:                       6.602   Cond. No.                     3.93e+04\n",
       "==============================================================================\n",
       "\n",
       "Notes:\n",
       "[1] Standard Errors assume that the covariance matrix of the errors is correctly specified.\n",
       "[2] The condition number is large, 3.93e+04. This might indicate that there are\n",
       "strong multicollinearity or other numerical problems.\n",
       "\"\"\""
      ]
     },
     "execution_count": 51,
     "metadata": {},
     "output_type": "execute_result"
    }
   ],
   "source": [
    "mcoM.summary()"
   ]
  },
  {
   "cell_type": "code",
   "execution_count": 56,
   "metadata": {},
   "outputs": [
    {
     "name": "stdout",
     "output_type": "stream",
     "text": [
      "63763978.98930619 57288575.940988846 123267451.0461509\n"
     ]
    },
    {
     "data": {
      "text/plain": [
       "706"
      ]
     },
     "execution_count": 56,
     "metadata": {},
     "output_type": "execute_result"
    }
   ],
   "source": [
    "SCRH=mcoH.ssr\n",
    "SCRM=mcoM.ssr\n",
    "SCR=mco.ssr\n",
    "print(SCRH, SCRM, SCR)\n",
    "len(datos)"
   ]
  },
  {
   "cell_type": "markdown",
   "metadata": {},
   "source": [
    "$F_{exp} = \\frac{n-2k -2}{k+1} \\frac{SCR - (SCR_H+SCR_M)}{SCR_H + SCR_M} \\sim F_{k+1, n-2k-1}$\n",
    "\n",
    "\n",
    "$H_0 : Comportamiento H = Comportamiento M$"
   ]
  },
  {
   "cell_type": "code",
   "execution_count": 60,
   "metadata": {},
   "outputs": [
    {
     "name": "stdout",
     "output_type": "stream",
     "text": [
      "2.1163506287125817 2.1116070794184885\n"
     ]
    }
   ],
   "source": [
    "n=len(datos)\n",
    "k=5\n",
    "\n",
    "\n",
    "Fexp=(n-2*k-2)/(k+1) * (SCR - (SCRH+SCRM))/(SCRH+SCRM)\n",
    "Fexp\n",
    "\n",
    "from scipy import stats\n",
    "\n",
    "\n",
    "Fteo= stats.f.ppf(1-0.05, k+1, n-2*k-1)\n",
    "\n",
    "print(Fexp, Fteo)\n"
   ]
  },
  {
   "cell_type": "markdown",
   "metadata": {},
   "source": [
    "6. Aplicar el test de Chow del ejercicio anterior para determinar si existen diferencias entre géneros al analizar el modelo $\\log (wage) = \\beta_0 + \\beta_1 educ + \\beta_2 exper + \\beta_3 exper^2 + \\beta_4 tenure + \\beta_5 tenure^2 + u$ con los datos de **wage1**."
   ]
  },
  {
   "cell_type": "code",
   "execution_count": null,
   "metadata": {},
   "outputs": [],
   "source": []
  },
  {
   "cell_type": "markdown",
   "metadata": {},
   "source": [
    "7. Utilizando **apple**:\n",
    "    - Definir la variable binaria $eco=1$ si $ecolbs>0$ y $eco=0$ y si $ecolbs=0$. ¿Qué indica esa variable? ¿Cuál es la proporcion de familias que asegura que comprará manzanas ecoetiquetadas?\n",
    "    - Estimar el modelo $eco = \\beta_0 + \\beta_1 ecoprc + \\beta_2 regprc +\\beta_3 faminc + \\beta_4 hhsize + \\beta_5 educ + \\beta_6 age + u$. Interpretar $\\beta_1$ y $\\beta_2$.\n",
    "    - ¿Son conjuntamente significativas las variables que no corresponden a precios del modelo? ¿Qué variable independiente, además de las relacionadas con precios, parecen tener unefecto más importante sobre la decisión de comprar manzanas ecológicas? ¿Tiene sentido?\n",
    "    - Sustituir en el modelo la variable $faminc$ por $\\log (faminc)$ y estimar el nuevo modelo. ¿Qué modelo se ajusta mejor?\n",
    "    - Utilizar el Test de Chow para determinar si hay diferencias entre hombres y mujeres en su intención de comprar manzanas ecológicas."
   ]
  }
 ],
 "metadata": {
  "kernelspec": {
   "display_name": "Python 3",
   "language": "python",
   "name": "python3"
  },
  "language_info": {
   "codemirror_mode": {
    "name": "ipython",
    "version": 3
   },
   "file_extension": ".py",
   "mimetype": "text/x-python",
   "name": "python",
   "nbconvert_exporter": "python",
   "pygments_lexer": "ipython3",
   "version": "3.7.9"
  }
 },
 "nbformat": 4,
 "nbformat_minor": 2
}
