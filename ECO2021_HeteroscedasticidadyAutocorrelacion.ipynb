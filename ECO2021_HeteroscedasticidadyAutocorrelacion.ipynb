{
 "cells": [
  {
   "cell_type": "markdown",
   "metadata": {},
   "source": [
    "# Práctica 3:  Heteroscedasticidad y Autocorrelación"
   ]
  },
  {
   "cell_type": "markdown",
   "metadata": {},
   "source": [
    "## Cuestiones"
   ]
  },
  {
   "cell_type": "code",
   "execution_count": 1,
   "metadata": {},
   "outputs": [],
   "source": [
    "import numpy as np\n",
    "import statsmodels.api as sm\n",
    "import statsmodels.formula.api as smf\n",
    "import matplotlib.pylab as plt\n",
    "from wooldridge import *"
   ]
  },
  {
   "cell_type": "markdown",
   "metadata": {},
   "source": [
    "1. Usando los datos de **sleep75**, analizar la posible existencia de heteroscedasticidad en el modelo $\n",
    "sleep = \\beta_0 + \\beta_1 totwrk + \\beta_2 educ + \\beta_3 age + \\beta_4 age^2 + \\beta_5 yngkid + u$"
   ]
  },
  {
   "cell_type": "code",
   "execution_count": null,
   "metadata": {},
   "outputs": [],
   "source": []
  },
  {
   "cell_type": "markdown",
   "metadata": {},
   "source": [
    "2. Usando los datos de **vote1** para el modelo $voteA = \\beta_0 + \\beta_1 \\log(expendA) + \\beta_2 \\log(expendB) + \\beta_3 prtystrA + \\beta_4 democA+ u$, analizar la heteroscedasticidad del modelo usando los Test de Breush-Pagan y White."
   ]
  },
  {
   "cell_type": "code",
   "execution_count": null,
   "metadata": {},
   "outputs": [],
   "source": []
  },
  {
   "cell_type": "markdown",
   "metadata": {},
   "source": [
    "3. Con la base de datos **gpa1**:\n",
    " - Estimar $colGPA = \\beta_0 + \\beta_1 hsGPA + \\beta_2 ACT + \\beta_3 skipped + \\beta_4 PC + u$ y extraer los residuos.\n",
    " - Contrastar la posibilidad de heteroscedasticidad con el test de Breush-Pagan.\n",
    " - Analizar, con el test de Glejser, la dependencia funcional de la heteroscedasticidad con respecto a la variables que podrían provocarla.\n",
    " - Ajustar, según el método de Mínimos Cuadrados Ponderados, el modelo con la corrección de heteroscedasticidad."
   ]
  },
  {
   "cell_type": "code",
   "execution_count": 7,
   "metadata": {},
   "outputs": [
    {
     "name": "stdout",
     "output_type": "stream",
     "text": [
      "name of dataset: barium\n",
      "no of variables: 31\n",
      "no of observations: 131\n",
      "\n",
      "+----------+---------------------------------+\n",
      "| variable | label                           |\n",
      "+----------+---------------------------------+\n",
      "| chnimp   | Chinese imports, bar. chl.      |\n",
      "| bchlimp  | total imports bar. chl.         |\n",
      "| befile6  | =1 for all 6 mos before filing  |\n",
      "| affile6  | =1 for all 6 mos after filing   |\n",
      "| afdec6   | =1 for all 6 mos after decision |\n",
      "| befile12 | =1 all 12 mos before filing     |\n",
      "| affile12 | =1 all 12 mos after filing      |\n",
      "| afdec12  | =1 all 12 mos after decision    |\n",
      "| chempi   | chemical production index       |\n",
      "| gas      | gasoline production             |\n",
      "| rtwex    | exchange rate index             |\n",
      "| spr      | =1 for spring months            |\n",
      "| sum      | =1 for summer months            |\n",
      "| fall     | =1 for fall months              |\n",
      "| lchnimp  | log(chnimp)                     |\n",
      "| lgas     | log(gas)                        |\n",
      "| lrtwex   | log(rtwex)                      |\n",
      "| lchempi  | log(chempi)                     |\n",
      "| t        | time trend                      |\n",
      "| feb      | =1 if month is feb              |\n",
      "| mar      | =1 if month is march            |\n",
      "| apr      |                                 |\n",
      "| may      |                                 |\n",
      "| jun      |                                 |\n",
      "| jul      |                                 |\n",
      "| aug      |                                 |\n",
      "| sep      |                                 |\n",
      "| oct      |                                 |\n",
      "| nov      |                                 |\n",
      "| dec      |                                 |\n",
      "| percchn  | % imports from china            |\n",
      "+----------+---------------------------------+\n",
      "\n",
      "C.M. Krupp and P.S. Pollard (1999), \"Market Responses to Antidumpting\n",
      "Laws: Some Evidence from the U.S. Chemical Industry,\" Canadian Journal\n",
      "of Economics 29, 199-227. Dr. Krupp kindly provided the data. They are\n",
      "monthly data covering February 1978 through December 1988.\n"
     ]
    }
   ],
   "source": [
    "datos=dataWoo('barium', description=True)"
   ]
  },
  {
   "cell_type": "markdown",
   "metadata": {},
   "source": [
    "4. Usando los datos de **barium**, estima el modelo $log(chempi)= \\beta_0 + \\beta_1 log(gas) + \\beta_2 log(rtwex) + \\beta_3 befile6  + \\beta_4 affile6 + \\beta_5  afdec6 + u$, y analiza la posible existencia de autocorrelación en el modelo. En caso afirmativo, estima el modelo corregido."
   ]
  },
  {
   "cell_type": "code",
   "execution_count": 36,
   "metadata": {},
   "outputs": [
    {
     "data": {
      "text/html": [
       "<table class=\"simpletable\">\n",
       "<caption>OLS Regression Results</caption>\n",
       "<tr>\n",
       "  <th>Dep. Variable:</th>         <td>lchempi</td>     <th>  R-squared:         </th> <td>   0.055</td>\n",
       "</tr>\n",
       "<tr>\n",
       "  <th>Model:</th>                   <td>OLS</td>       <th>  Adj. R-squared:    </th> <td>   0.025</td>\n",
       "</tr>\n",
       "<tr>\n",
       "  <th>Method:</th>             <td>Least Squares</td>  <th>  F-statistic:       </th> <td>   1.821</td>\n",
       "</tr>\n",
       "<tr>\n",
       "  <th>Date:</th>             <td>Tue, 03 Dec 2019</td> <th>  Prob (F-statistic):</th>  <td> 0.129</td> \n",
       "</tr>\n",
       "<tr>\n",
       "  <th>Time:</th>                 <td>10:01:41</td>     <th>  Log-Likelihood:    </th> <td>  103.71</td>\n",
       "</tr>\n",
       "<tr>\n",
       "  <th>No. Observations:</th>      <td>   131</td>      <th>  AIC:               </th> <td>  -197.4</td>\n",
       "</tr>\n",
       "<tr>\n",
       "  <th>Df Residuals:</th>          <td>   126</td>      <th>  BIC:               </th> <td>  -183.0</td>\n",
       "</tr>\n",
       "<tr>\n",
       "  <th>Df Model:</th>              <td>     4</td>      <th>                     </th>     <td> </td>   \n",
       "</tr>\n",
       "<tr>\n",
       "  <th>Covariance Type:</th>      <td>nonrobust</td>    <th>                     </th>     <td> </td>   \n",
       "</tr>\n",
       "</table>\n",
       "<table class=\"simpletable\">\n",
       "<tr>\n",
       "     <td></td>        <th>coef</th>     <th>std err</th>      <th>t</th>      <th>P>|t|</th>  <th>[0.025</th>    <th>0.975]</th>  \n",
       "</tr>\n",
       "<tr>\n",
       "  <th>const</th>   <td>   -3.9695</td> <td>    3.511</td> <td>   -1.131</td> <td> 0.260</td> <td>  -10.918</td> <td>    2.979</td>\n",
       "</tr>\n",
       "<tr>\n",
       "  <th>lgas</th>    <td>    0.3836</td> <td>    0.154</td> <td>    2.499</td> <td> 0.014</td> <td>    0.080</td> <td>    0.687</td>\n",
       "</tr>\n",
       "<tr>\n",
       "  <th>befile6</th> <td>   -0.0275</td> <td>    0.047</td> <td>   -0.585</td> <td> 0.559</td> <td>   -0.120</td> <td>    0.065</td>\n",
       "</tr>\n",
       "<tr>\n",
       "  <th>affile6</th> <td>    0.0223</td> <td>    0.047</td> <td>    0.469</td> <td> 0.640</td> <td>   -0.072</td> <td>    0.116</td>\n",
       "</tr>\n",
       "<tr>\n",
       "  <th>afdec6</th>  <td>    0.0600</td> <td>    0.048</td> <td>    1.239</td> <td> 0.217</td> <td>   -0.036</td> <td>    0.156</td>\n",
       "</tr>\n",
       "</table>\n",
       "<table class=\"simpletable\">\n",
       "<tr>\n",
       "  <th>Omnibus:</th>       <td> 3.775</td> <th>  Durbin-Watson:     </th> <td>   0.066</td>\n",
       "</tr>\n",
       "<tr>\n",
       "  <th>Prob(Omnibus):</th> <td> 0.151</td> <th>  Jarque-Bera (JB):  </th> <td>   2.550</td>\n",
       "</tr>\n",
       "<tr>\n",
       "  <th>Skew:</th>          <td> 0.160</td> <th>  Prob(JB):          </th> <td>   0.279</td>\n",
       "</tr>\n",
       "<tr>\n",
       "  <th>Kurtosis:</th>      <td> 2.396</td> <th>  Cond. No.          </th> <td>8.24e+03</td>\n",
       "</tr>\n",
       "</table><br/><br/>Warnings:<br/>[1] Standard Errors assume that the covariance matrix of the errors is correctly specified.<br/>[2] The condition number is large, 8.24e+03. This might indicate that there are<br/>strong multicollinearity or other numerical problems."
      ],
      "text/plain": [
       "<class 'statsmodels.iolib.summary.Summary'>\n",
       "\"\"\"\n",
       "                            OLS Regression Results                            \n",
       "==============================================================================\n",
       "Dep. Variable:                lchempi   R-squared:                       0.055\n",
       "Model:                            OLS   Adj. R-squared:                  0.025\n",
       "Method:                 Least Squares   F-statistic:                     1.821\n",
       "Date:                Tue, 03 Dec 2019   Prob (F-statistic):              0.129\n",
       "Time:                        10:01:41   Log-Likelihood:                 103.71\n",
       "No. Observations:                 131   AIC:                            -197.4\n",
       "Df Residuals:                     126   BIC:                            -183.0\n",
       "Df Model:                           4                                         \n",
       "Covariance Type:            nonrobust                                         \n",
       "==============================================================================\n",
       "                 coef    std err          t      P>|t|      [0.025      0.975]\n",
       "------------------------------------------------------------------------------\n",
       "const         -3.9695      3.511     -1.131      0.260     -10.918       2.979\n",
       "lgas           0.3836      0.154      2.499      0.014       0.080       0.687\n",
       "befile6       -0.0275      0.047     -0.585      0.559      -0.120       0.065\n",
       "affile6        0.0223      0.047      0.469      0.640      -0.072       0.116\n",
       "afdec6         0.0600      0.048      1.239      0.217      -0.036       0.156\n",
       "==============================================================================\n",
       "Omnibus:                        3.775   Durbin-Watson:                   0.066\n",
       "Prob(Omnibus):                  0.151   Jarque-Bera (JB):                2.550\n",
       "Skew:                           0.160   Prob(JB):                        0.279\n",
       "Kurtosis:                       2.396   Cond. No.                     8.24e+03\n",
       "==============================================================================\n",
       "\n",
       "Warnings:\n",
       "[1] Standard Errors assume that the covariance matrix of the errors is correctly specified.\n",
       "[2] The condition number is large, 8.24e+03. This might indicate that there are\n",
       "strong multicollinearity or other numerical problems.\n",
       "\"\"\""
      ]
     },
     "execution_count": 36,
     "metadata": {},
     "output_type": "execute_result"
    }
   ],
   "source": [
    "datos=dataWoo('barium')\n",
    "y=datos['lchempi']\n",
    "X=datos[['lgas', 'befile6', 'affile6', 'afdec6']]\n",
    "mco4=sm.OLS(y, sm.add_constant(X)).fit()\n",
    "mco4.summary()"
   ]
  },
  {
   "cell_type": "code",
   "execution_count": 35,
   "metadata": {},
   "outputs": [],
   "source": [
    "from statsmodels.stats.stattools import durbin_watson\n",
    "dw=durbin_watson(mco4.resid)"
   ]
  },
  {
   "cell_type": "code",
   "execution_count": 24,
   "metadata": {},
   "outputs": [
    {
     "data": {
      "text/html": [
       "<table class=\"simpletable\">\n",
       "<caption>GLSAR Regression Results</caption>\n",
       "<tr>\n",
       "  <th>Dep. Variable:</th>         <td>lchempi</td>     <th>  R-squared:         </th> <td>   0.008</td>\n",
       "</tr>\n",
       "<tr>\n",
       "  <th>Model:</th>                  <td>GLSAR</td>      <th>  Adj. R-squared:    </th> <td>  -0.032</td>\n",
       "</tr>\n",
       "<tr>\n",
       "  <th>Method:</th>             <td>Least Squares</td>  <th>  F-statistic:       </th> <td>  0.2071</td>\n",
       "</tr>\n",
       "<tr>\n",
       "  <th>Date:</th>             <td>Tue, 03 Dec 2019</td> <th>  Prob (F-statistic):</th>  <td> 0.959</td> \n",
       "</tr>\n",
       "<tr>\n",
       "  <th>Time:</th>                 <td>09:54:46</td>     <th>  Log-Likelihood:    </th> <td>  363.67</td>\n",
       "</tr>\n",
       "<tr>\n",
       "  <th>No. Observations:</th>      <td>   130</td>      <th>  AIC:               </th> <td>  -715.3</td>\n",
       "</tr>\n",
       "<tr>\n",
       "  <th>Df Residuals:</th>          <td>   124</td>      <th>  BIC:               </th> <td>  -698.1</td>\n",
       "</tr>\n",
       "<tr>\n",
       "  <th>Df Model:</th>              <td>     5</td>      <th>                     </th>     <td> </td>   \n",
       "</tr>\n",
       "<tr>\n",
       "  <th>Covariance Type:</th>      <td>nonrobust</td>    <th>                     </th>     <td> </td>   \n",
       "</tr>\n",
       "</table>\n",
       "<table class=\"simpletable\">\n",
       "<tr>\n",
       "     <td></td>        <th>coef</th>     <th>std err</th>      <th>t</th>      <th>P>|t|</th>  <th>[0.025</th>    <th>0.975]</th>  \n",
       "</tr>\n",
       "<tr>\n",
       "  <th>const</th>   <td>    5.3066</td> <td>    0.635</td> <td>    8.362</td> <td> 0.000</td> <td>    4.051</td> <td>    6.563</td>\n",
       "</tr>\n",
       "<tr>\n",
       "  <th>lgas</th>    <td>   -0.0185</td> <td>    0.024</td> <td>   -0.780</td> <td> 0.437</td> <td>   -0.065</td> <td>    0.028</td>\n",
       "</tr>\n",
       "<tr>\n",
       "  <th>lrtwex</th>  <td>    0.0050</td> <td>    0.055</td> <td>    0.091</td> <td> 0.928</td> <td>   -0.104</td> <td>    0.114</td>\n",
       "</tr>\n",
       "<tr>\n",
       "  <th>befile6</th> <td>   -0.0032</td> <td>    0.011</td> <td>   -0.295</td> <td> 0.768</td> <td>   -0.025</td> <td>    0.018</td>\n",
       "</tr>\n",
       "<tr>\n",
       "  <th>affile6</th> <td>   -0.0057</td> <td>    0.011</td> <td>   -0.528</td> <td> 0.599</td> <td>   -0.027</td> <td>    0.016</td>\n",
       "</tr>\n",
       "<tr>\n",
       "  <th>afdec6</th>  <td>    0.0006</td> <td>    0.011</td> <td>    0.051</td> <td> 0.959</td> <td>   -0.021</td> <td>    0.022</td>\n",
       "</tr>\n",
       "</table>\n",
       "<table class=\"simpletable\">\n",
       "<tr>\n",
       "  <th>Omnibus:</th>       <td>17.718</td> <th>  Durbin-Watson:     </th> <td>   1.092</td>\n",
       "</tr>\n",
       "<tr>\n",
       "  <th>Prob(Omnibus):</th> <td> 0.000</td> <th>  Jarque-Bera (JB):  </th> <td>  25.729</td>\n",
       "</tr>\n",
       "<tr>\n",
       "  <th>Skew:</th>          <td>-0.705</td> <th>  Prob(JB):          </th> <td>2.59e-06</td>\n",
       "</tr>\n",
       "<tr>\n",
       "  <th>Kurtosis:</th>      <td> 4.662</td> <th>  Cond. No.          </th> <td>    385.</td>\n",
       "</tr>\n",
       "</table><br/><br/>Warnings:<br/>[1] Standard Errors assume that the covariance matrix of the errors is correctly specified."
      ],
      "text/plain": [
       "<class 'statsmodels.iolib.summary.Summary'>\n",
       "\"\"\"\n",
       "                           GLSAR Regression Results                           \n",
       "==============================================================================\n",
       "Dep. Variable:                lchempi   R-squared:                       0.008\n",
       "Model:                          GLSAR   Adj. R-squared:                 -0.032\n",
       "Method:                 Least Squares   F-statistic:                    0.2071\n",
       "Date:                Tue, 03 Dec 2019   Prob (F-statistic):              0.959\n",
       "Time:                        09:54:46   Log-Likelihood:                 363.67\n",
       "No. Observations:                 130   AIC:                            -715.3\n",
       "Df Residuals:                     124   BIC:                            -698.1\n",
       "Df Model:                           5                                         \n",
       "Covariance Type:            nonrobust                                         \n",
       "==============================================================================\n",
       "                 coef    std err          t      P>|t|      [0.025      0.975]\n",
       "------------------------------------------------------------------------------\n",
       "const          5.3066      0.635      8.362      0.000       4.051       6.563\n",
       "lgas          -0.0185      0.024     -0.780      0.437      -0.065       0.028\n",
       "lrtwex         0.0050      0.055      0.091      0.928      -0.104       0.114\n",
       "befile6       -0.0032      0.011     -0.295      0.768      -0.025       0.018\n",
       "affile6       -0.0057      0.011     -0.528      0.599      -0.027       0.016\n",
       "afdec6         0.0006      0.011      0.051      0.959      -0.021       0.022\n",
       "==============================================================================\n",
       "Omnibus:                       17.718   Durbin-Watson:                   1.092\n",
       "Prob(Omnibus):                  0.000   Jarque-Bera (JB):               25.729\n",
       "Skew:                          -0.705   Prob(JB):                     2.59e-06\n",
       "Kurtosis:                       4.662   Cond. No.                         385.\n",
       "==============================================================================\n",
       "\n",
       "Warnings:\n",
       "[1] Standard Errors assume that the covariance matrix of the errors is correctly specified.\n",
       "\"\"\""
      ]
     },
     "execution_count": 24,
     "metadata": {},
     "output_type": "execute_result"
    }
   ],
   "source": [
    "rho= 1 - dw/2\n",
    "\n",
    "\n",
    "mco_autocorr=sm.GLSAR(y, sm.add_constant(X), rho=rho).iterative_fit(maxiter=1000)\n",
    "mco_autocorr.summary()"
   ]
  },
  {
   "cell_type": "code",
   "execution_count": 40,
   "metadata": {},
   "outputs": [
    {
     "data": {
      "text/plain": [
       "0.04580152671755725"
      ]
     },
     "execution_count": 40,
     "metadata": {},
     "output_type": "execute_result"
    }
   ],
   "source": [
    "np.mean(datos['afdec6'])"
   ]
  },
  {
   "cell_type": "markdown",
   "metadata": {},
   "source": [
    "5. Usando los datos de **prminwge**, estima el modelo lineal $\\log( prepopt) = \\beta_0 + \\beta_1 \\log(mincovt) + \\beta_2 \\log(usgnpt) + u$, y analiza la posible autocorrelación del modelo con el contraste de Ljung-Box, para distintos retardos."
   ]
  },
  {
   "cell_type": "code",
   "execution_count": 45,
   "metadata": {},
   "outputs": [
    {
     "name": "stdout",
     "output_type": "stream",
     "text": [
      "name of dataset: prminwge\n",
      "no of variables: 25\n",
      "no of observations: 38\n",
      "\n",
      "+----------+---------------------------------+\n",
      "| variable | label                           |\n",
      "+----------+---------------------------------+\n",
      "| year     | 1950-1987                       |\n",
      "| avgmin   | weighted avg min wge, 44 indust |\n",
      "| avgwage  | wghted avg hrly wge, 44 indust  |\n",
      "| kaitz    | Kaitz min wage index            |\n",
      "| avgcov   | wghted avg coverage, 8 indust   |\n",
      "| covt     | economy-wide coverage of min wg |\n",
      "| mfgwage  | avg manuf. wage                 |\n",
      "| prdef    | Puerto Rican price deflator     |\n",
      "| prepop   | PR employ/popul ratio           |\n",
      "| prepopf  | PR employ/popul ratio, alter.   |\n",
      "| prgnp    | PR GNP                          |\n",
      "| prunemp  | PR unemployment rate            |\n",
      "| usgnp    | US GNP                          |\n",
      "| t        | time trend:  1 to 38            |\n",
      "| post74   | time trend:  starts in 1974     |\n",
      "| lprunemp | log(prunemp)                    |\n",
      "| lprgnp   | log(prgnp)                      |\n",
      "| lusgnp   | log(usgnp)                      |\n",
      "| lkaitz   | log(kaitz)                      |\n",
      "| lprun_1  | lprunemp[_n-1]                  |\n",
      "| lprepop  | log(prepop)                     |\n",
      "| lprep_1  | lprepop[_n-1]                   |\n",
      "| mincov   | (avgmin/avgwage)*avgcov         |\n",
      "| lmincov  | log(mincov)                     |\n",
      "| lavgmin  | log(avgmin)                     |\n",
      "+----------+---------------------------------+\n",
      "\n",
      "A.J. Castillo-Freeman and R.B. Freeman (1992), “When the Minimum Wage\n",
      "Really Bites: The Effect of the U.S.-Level Minimum Wage on Puerto\n",
      "Rico,” in Immigration and the Work Force, edited by G.J. Borjas and\n",
      "R.B. Freeman, 177-211. Chicago: University of Chicago Press. The data\n",
      "are reported in the article.\n"
     ]
    }
   ],
   "source": [
    "dataWoo('prminwge', description=True)"
   ]
  },
  {
   "cell_type": "code",
   "execution_count": 47,
   "metadata": {
    "scrolled": true
   },
   "outputs": [
    {
     "data": {
      "text/html": [
       "<table class=\"simpletable\">\n",
       "<caption>OLS Regression Results</caption>\n",
       "<tr>\n",
       "  <th>Dep. Variable:</th>         <td>lprepop</td>     <th>  R-squared:         </th> <td>   0.660</td>\n",
       "</tr>\n",
       "<tr>\n",
       "  <th>Model:</th>                   <td>OLS</td>       <th>  Adj. R-squared:    </th> <td>   0.641</td>\n",
       "</tr>\n",
       "<tr>\n",
       "  <th>Method:</th>             <td>Least Squares</td>  <th>  F-statistic:       </th> <td>   34.04</td>\n",
       "</tr>\n",
       "<tr>\n",
       "  <th>Date:</th>             <td>Tue, 03 Dec 2019</td> <th>  Prob (F-statistic):</th> <td>6.17e-09</td>\n",
       "</tr>\n",
       "<tr>\n",
       "  <th>Time:</th>                 <td>10:10:45</td>     <th>  Log-Likelihood:    </th> <td>  57.376</td>\n",
       "</tr>\n",
       "<tr>\n",
       "  <th>No. Observations:</th>      <td>    38</td>      <th>  AIC:               </th> <td>  -108.8</td>\n",
       "</tr>\n",
       "<tr>\n",
       "  <th>Df Residuals:</th>          <td>    35</td>      <th>  BIC:               </th> <td>  -103.8</td>\n",
       "</tr>\n",
       "<tr>\n",
       "  <th>Df Model:</th>              <td>     2</td>      <th>                     </th>     <td> </td>   \n",
       "</tr>\n",
       "<tr>\n",
       "  <th>Covariance Type:</th>      <td>nonrobust</td>    <th>                     </th>     <td> </td>   \n",
       "</tr>\n",
       "</table>\n",
       "<table class=\"simpletable\">\n",
       "<tr>\n",
       "     <td></td>        <th>coef</th>     <th>std err</th>      <th>t</th>      <th>P>|t|</th>  <th>[0.025</th>    <th>0.975]</th>  \n",
       "</tr>\n",
       "<tr>\n",
       "  <th>const</th>   <td>   -1.0544</td> <td>    0.765</td> <td>   -1.378</td> <td> 0.177</td> <td>   -2.608</td> <td>    0.499</td>\n",
       "</tr>\n",
       "<tr>\n",
       "  <th>lmincov</th> <td>   -0.1544</td> <td>    0.065</td> <td>   -2.380</td> <td> 0.023</td> <td>   -0.286</td> <td>   -0.023</td>\n",
       "</tr>\n",
       "<tr>\n",
       "  <th>lusgnp</th>  <td>   -0.0122</td> <td>    0.089</td> <td>   -0.138</td> <td> 0.891</td> <td>   -0.192</td> <td>    0.168</td>\n",
       "</tr>\n",
       "</table>\n",
       "<table class=\"simpletable\">\n",
       "<tr>\n",
       "  <th>Omnibus:</th>       <td> 0.079</td> <th>  Durbin-Watson:     </th> <td>   0.340</td>\n",
       "</tr>\n",
       "<tr>\n",
       "  <th>Prob(Omnibus):</th> <td> 0.961</td> <th>  Jarque-Bera (JB):  </th> <td>   0.084</td>\n",
       "</tr>\n",
       "<tr>\n",
       "  <th>Skew:</th>          <td> 0.073</td> <th>  Prob(JB):          </th> <td>   0.959</td>\n",
       "</tr>\n",
       "<tr>\n",
       "  <th>Kurtosis:</th>      <td> 2.822</td> <th>  Cond. No.          </th> <td>    676.</td>\n",
       "</tr>\n",
       "</table><br/><br/>Warnings:<br/>[1] Standard Errors assume that the covariance matrix of the errors is correctly specified."
      ],
      "text/plain": [
       "<class 'statsmodels.iolib.summary.Summary'>\n",
       "\"\"\"\n",
       "                            OLS Regression Results                            \n",
       "==============================================================================\n",
       "Dep. Variable:                lprepop   R-squared:                       0.660\n",
       "Model:                            OLS   Adj. R-squared:                  0.641\n",
       "Method:                 Least Squares   F-statistic:                     34.04\n",
       "Date:                Tue, 03 Dec 2019   Prob (F-statistic):           6.17e-09\n",
       "Time:                        10:10:45   Log-Likelihood:                 57.376\n",
       "No. Observations:                  38   AIC:                            -108.8\n",
       "Df Residuals:                      35   BIC:                            -103.8\n",
       "Df Model:                           2                                         \n",
       "Covariance Type:            nonrobust                                         \n",
       "==============================================================================\n",
       "                 coef    std err          t      P>|t|      [0.025      0.975]\n",
       "------------------------------------------------------------------------------\n",
       "const         -1.0544      0.765     -1.378      0.177      -2.608       0.499\n",
       "lmincov       -0.1544      0.065     -2.380      0.023      -0.286      -0.023\n",
       "lusgnp        -0.0122      0.089     -0.138      0.891      -0.192       0.168\n",
       "==============================================================================\n",
       "Omnibus:                        0.079   Durbin-Watson:                   0.340\n",
       "Prob(Omnibus):                  0.961   Jarque-Bera (JB):                0.084\n",
       "Skew:                           0.073   Prob(JB):                        0.959\n",
       "Kurtosis:                       2.822   Cond. No.                         676.\n",
       "==============================================================================\n",
       "\n",
       "Warnings:\n",
       "[1] Standard Errors assume that the covariance matrix of the errors is correctly specified.\n",
       "\"\"\""
      ]
     },
     "execution_count": 47,
     "metadata": {},
     "output_type": "execute_result"
    }
   ],
   "source": [
    "datos=dataWoo('prminwge')\n",
    "\n",
    "y=datos['lprepop']\n",
    "X=datos[['lmincov', 'lusgnp']]\n",
    "        \n",
    "mco5=sm.OLS(y, sm.add_constant(X)).fit()\n",
    "mco5.summary()"
   ]
  },
  {
   "cell_type": "code",
   "execution_count": 48,
   "metadata": {},
   "outputs": [
    {
     "data": {
      "text/plain": [
       "(array([27.94397293, 46.75091935, 57.88034635]),\n",
       " array([1.24879321e-07, 7.04963857e-11, 1.66711664e-12]))"
      ]
     },
     "execution_count": 48,
     "metadata": {},
     "output_type": "execute_result"
    }
   ],
   "source": [
    "from statsmodels.stats.diagnostic import acorr_ljungbox\n",
    "acorr_ljungbox(mco5.resid, lags=3)"
   ]
  },
  {
   "cell_type": "code",
   "execution_count": null,
   "metadata": {},
   "outputs": [],
   "source": []
  }
 ],
 "metadata": {
  "kernelspec": {
   "display_name": "Python 3",
   "language": "python",
   "name": "python3"
  },
  "language_info": {
   "codemirror_mode": {
    "name": "ipython",
    "version": 3
   },
   "file_extension": ".py",
   "mimetype": "text/x-python",
   "name": "python",
   "nbconvert_exporter": "python",
   "pygments_lexer": "ipython3",
   "version": "3.8.5"
  }
 },
 "nbformat": 4,
 "nbformat_minor": 2
}
